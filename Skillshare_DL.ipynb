{
  "nbformat": 4,
  "nbformat_minor": 0,
  "metadata": {
    "colab": {
      "name": "Skillshare-DL [KENWAY].ipynb",
      "provenance": [],
      "collapsed_sections": [],
      "toc_visible": true,
      "include_colab_link": true
    },
    "kernelspec": {
      "name": "python3",
      "display_name": "Python 3"
    },
    "accelerator": "GPU"
  },
  "cells": [
    {
      "cell_type": "markdown",
      "metadata": {
        "id": "view-in-github",
        "colab_type": "text"
      },
      "source": [
        "<a href=\"https://colab.research.google.com/github/K-E-N-W-A-Y/Skillshare-DL/blob/master/Skillshare_DL_%5BKENWAY%5D.ipynb\" target=\"_parent\"><img src=\"https://colab.research.google.com/assets/colab-badge.svg\" alt=\"Open In Colab\"/></a>"
      ]
    },
    {
      "cell_type": "code",
      "metadata": {
        "id": "tTVkURopsAxH",
        "colab_type": "code",
        "cellView": "form",
        "colab": {}
      },
      "source": [
        "#@markdown <h3>⬅ Run This Cell to  Mount Gdrive\n",
        "from google.colab import drive\n",
        "drive.mount('/content/drive')"
      ],
      "execution_count": 0,
      "outputs": []
    },
    {
      "cell_type": "markdown",
      "metadata": {
        "id": "oy6NiZ-mhVFX",
        "colab_type": "text"
      },
      "source": [
        "# <img src='https://i.imgur.com/ZLv9ul7.jpg' height=\"60\" alt=\"RcloneLab\"/>"
      ]
    },
    {
      "cell_type": "code",
      "metadata": {
        "id": "xunEYHutBEv_",
        "colab_type": "code",
        "cellView": "form",
        "colab": {}
      },
      "source": [
        "#@markdown <h3>⬅️ Run This Cell to Install Skillshare-DL Requirements</h3>\n",
        "import random, string, urllib.request, json, getpass, os, IPython, uuid\n",
        "import ipywidgets as widgets\n",
        "\n",
        "from IPython.display import HTML, clear_output\n",
        "\n",
        "loadingBtn = widgets.Button(description = \"Installing\",\n",
        "                          disabled = True,\n",
        "                          button_style = 'warning', # 'success', 'info', 'warning', 'danger' or '' \n",
        "                          tooltip = \"Installing\",\n",
        "                          icon = 'check')\n",
        "display(loadingBtn)\n",
        "\n",
        "if not os.path.exists(\"/opt/python3.7\"):\n",
        "  get_ipython().system_raw(\"rm -rf /content/sample_data/ && sudo apt update && sudo apt install software-properties-common\")\n",
        "  get_ipython().system_raw(\"sudo add-apt-repository ppa:deadsnakes/ppa\")\n",
        "  get_ipython().system_raw(\"sudo apt install python3.7\")\n",
        "  get_ipython().system_raw(\"sudo apt install python3-pip\")\n",
        "  get_ipython().system_raw(\"python3.7 -m pip install --upgrade pip setuptools wheel\")\n",
        "  get_ipython().system_raw(\"git clone https://github.com/K-E-N-W-A-Y/Skillshare-DL.git /root/.Skillshare-DL\")\n",
        "  get_ipython().system_raw(\"rm -r /root/.Skillshare-DL/Skillshare_DL_[KENWAY].ipynb\")\n",
        "  clear_output()\n",
        "\n",
        "try:\n",
        "  get_ipython().system_raw(\"python3.7 -m pip -q install -r /root/.Skillshare-DL/requirements.txt\")\n",
        "  display(HTML(\"<center><h2 style=\\\"font-family:Trebuchet MS;color:#4f8bd6;\\\">Successfully Configured!</h2><br></center>\"))\n",
        "  \n",
        "except:\n",
        "  display(HTML(\"<center><h2 style=\\\"font-family:Trebuchet MS;color:#ff0000;\\\">Error Occured, Rerun the Cell!!</h2><br></center>\"))"
      ],
      "execution_count": 0,
      "outputs": []
    },
    {
      "cell_type": "code",
      "metadata": {
        "id": "GMcXn3WTIYfo",
        "colab_type": "code",
        "cellView": "form",
        "colab": {}
      },
      "source": [
        "#@markdown <h3>⬅️ Run this Cell to Download Skillshare Course</h3>\n",
        "Course_Link = \"\" #@param {type:\"string\"}\n",
        "!python3.7 /root/.Skillshare-DL/dl.py \"$Course_Link\""
      ],
      "execution_count": 0,
      "outputs": []
    },
    {
      "cell_type": "code",
      "metadata": {
        "id": "W4DvOJaqsGaj",
        "colab_type": "code",
        "cellView": "form",
        "colab": {}
      },
      "source": [
        "#@markdown <h3>⬅️ Run This Cell to  Move Downloaded Courses to Gdrive\n",
        "!mv /content/Skillshare \"/content/drive/My Drive/Skillshare-DL\""
      ],
      "execution_count": 0,
      "outputs": []
    }
  ]
}